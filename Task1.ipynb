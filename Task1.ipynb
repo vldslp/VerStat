{
 "cells": [
  {
   "cell_type": "markdown",
   "id": "4b944427",
   "metadata": {},
   "source": [
    "### Задача 1"
   ]
  },
  {
   "cell_type": "markdown",
   "id": "e44811f6",
   "metadata": {},
   "source": [
    "Из колоды в 52 карты извлекаются случайным образом 4 карты. \n",
    "    a) Найти вероятность того, что все карты – крести. ",
    "    б) Найти вероятность, что среди 4-х карт окажется хотя бы один туз."
   ]
  },
  {
   "cell_type": "markdown",
   "id": "ac3ae3ce",
   "metadata": {},
   "source": [
    "Функция числа сочетаний для n-элементов и k-исходов"
   ]
  },
  {
   "cell_type": "code",
   "execution_count": 1,
   "id": "8b661510",
   "metadata": {},
   "outputs": [],
   "source": [
    "from math import factorial as ftl\n",
    "\n",
    "def combns(n,k):\n",
    "    return int(ftl(n)/(ftl(k)*ftl(n-k)))"
   ]
  },
  {
   "cell_type": "markdown",
   "id": "13c5cc99",
   "metadata": {},
   "source": [
    "##### Условие а)"
   ]
  },
  {
   "cell_type": "markdown",
   "id": "f572e0f6",
   "metadata": {},
   "source": [
    "Трефовых карт в колоде 13 шт. Поэтому возможных комбинаций вытягивания по 4 карты для этой масти:"
   ]
  },
  {
   "cell_type": "code",
   "execution_count": 2,
   "id": "43164f3a",
   "metadata": {},
   "outputs": [
    {
     "data": {
      "text/plain": [
       "715"
      ]
     },
     "execution_count": 2,
     "metadata": {},
     "output_type": "execute_result"
    }
   ],
   "source": [
    "b4 = combns(13,4)\n",
    "b4"
   ]
  },
  {
   "cell_type": "markdown",
   "id": "711d7321",
   "metadata": {},
   "source": [
    "Число комбинаций вытягивания по 4 карты для всей колоды в 52 карты:"
   ]
  },
  {
   "cell_type": "code",
   "execution_count": 3,
   "id": "1990fcf4",
   "metadata": {},
   "outputs": [
    {
     "data": {
      "text/plain": [
       "270725"
      ]
     },
     "execution_count": 3,
     "metadata": {},
     "output_type": "execute_result"
    }
   ],
   "source": [
    "b52 = combns(52,4)\n",
    "b52"
   ]
  },
  {
   "cell_type": "markdown",
   "id": "cd552169",
   "metadata": {},
   "source": [
    "Вероятность, %, вытянуть карты по заданию а) будет соотношением:"
   ]
  },
  {
   "cell_type": "code",
   "execution_count": 4,
   "id": "ca9565ee",
   "metadata": {
    "scrolled": true
   },
   "outputs": [
    {
     "data": {
      "text/plain": [
       "0.26410564225690275"
      ]
     },
     "execution_count": 4,
     "metadata": {},
     "output_type": "execute_result"
    }
   ],
   "source": [
    "P4 = b4 / b52 * 100\n",
    "P4"
   ]
  },
  {
   "cell_type": "markdown",
   "id": "245213e7",
   "metadata": {},
   "source": [
    "##### Условие б)"
   ]
  },
  {
   "cell_type": "markdown",
   "id": "3de91207",
   "metadata": {},
   "source": [
    "Число вариантов вытягивания по 4 карты из 52-4=48 карт без тузов:"
   ]
  },
  {
   "cell_type": "code",
   "execution_count": 5,
   "id": "07d901c6",
   "metadata": {},
   "outputs": [
    {
     "data": {
      "text/plain": [
       "194580"
      ]
     },
     "execution_count": 5,
     "metadata": {},
     "output_type": "execute_result"
    }
   ],
   "source": [
    "b1 = combns(48,4)\n",
    "b1"
   ]
  },
  {
   "cell_type": "markdown",
   "id": "675fe35b",
   "metadata": {},
   "source": [
    "Вероятность, %, вытянуть карты по заданию б) будет:"
   ]
  },
  {
   "cell_type": "code",
   "execution_count": 6,
   "id": "ce6bb682",
   "metadata": {
    "scrolled": true
   },
   "outputs": [
    {
     "data": {
      "text/plain": [
       "28.12632745405854"
      ]
     },
     "execution_count": 6,
     "metadata": {},
     "output_type": "execute_result"
    }
   ],
   "source": [
    "P1 =1 - b1 / b52\n",
    "P1*100"
   ]
  },
  {
   "cell_type": "markdown",
   "id": "5d304afb",
   "metadata": {},
   "source": [
    "### Задача 2"
   ]
  },
  {
   "cell_type": "markdown",
   "id": "6d47de45",
   "metadata": {},
   "source": [
    "На входной двери подъезда установлен кодовый замок, содержащий десять кнопок с цифрами от 0 до 9. \n",
    "Код содержит три цифры, которые нужно нажать одновременно. \n",
    "Какова вероятность того, что человек, не знающий код, откроет дверь с первой попытки?"
   ]
  },
  {
   "cell_type": "markdown",
   "id": "098c1ff7",
   "metadata": {},
   "source": [
    "Количество вариантов нажатия комбинаций клавиш:"
   ]
  },
  {
   "cell_type": "code",
   "execution_count": 7,
   "id": "64f3c76d",
   "metadata": {},
   "outputs": [
    {
     "data": {
      "text/plain": [
       "120"
      ]
     },
     "execution_count": 7,
     "metadata": {},
     "output_type": "execute_result"
    }
   ],
   "source": [
    "Ncd = combns(10,3)\n",
    "Ncd"
   ]
  },
  {
   "cell_type": "markdown",
   "id": "bf3cfcd2",
   "metadata": {},
   "source": [
    "Т.к. возможность нажатия клавиш только одна, то вероятность, %:"
   ]
  },
  {
   "cell_type": "code",
   "execution_count": 8,
   "id": "48f36690",
   "metadata": {},
   "outputs": [
    {
     "data": {
      "text/plain": [
       "0.8333333333333334"
      ]
     },
     "execution_count": 8,
     "metadata": {},
     "output_type": "execute_result"
    }
   ],
   "source": [
    "Pcd = 1 / Ncd *100\n",
    "Pcd"
   ]
  },
  {
   "cell_type": "markdown",
   "id": "d7350a0b",
   "metadata": {},
   "source": [
    "### Задача 3"
   ]
  },
  {
   "cell_type": "markdown",
   "id": "1805fa5b",
   "metadata": {},
   "source": [
    "В ящике имеется 15 деталей, из которых 9 окрашены. \n",
    "Рабочий случайным образом извлекает 3 детали. \n",
    "Какова вероятность того, что все извлеченные детали окрашены?\n"
   ]
  },
  {
   "cell_type": "markdown",
   "id": "d696dd08",
   "metadata": {},
   "source": [
    "Вероятность вытащить окрашенную деталь в первый заход равна 9/15.\n",
    "Каждый последующий заход, т.к. количество оставшихся деталей уменьшается, числитель и знаменатель дроби 9/15 будет уменьшаться на единицу.\n",
    "Таким образом общая вероятность достать все детали окрашенными будет произведением вероятностей всех попыток, %:"
   ]
  },
  {
   "cell_type": "code",
   "execution_count": 10,
   "id": "3ee2302a",
   "metadata": {},
   "outputs": [
    {
     "data": {
      "text/plain": [
       "18.461538461538456"
      ]
     },
     "execution_count": 10,
     "metadata": {},
     "output_type": "execute_result"
    }
   ],
   "source": [
    "m = 3     # Число попыток\n",
    "z = []\n",
    "\n",
    "for t in range(m):\n",
    "    z.append((9-t) / (15-t))     \n",
    "    if t == 0:\n",
    "        p = z[t]\n",
    "    else:\n",
    "        p = p * z[t]\n",
    "p*100"
   ]
  },
  {
   "cell_type": "markdown",
   "id": "6bcb7712",
   "metadata": {},
   "source": [
    "### Задача 4"
   ]
  },
  {
   "cell_type": "markdown",
   "id": "94e12c8a",
   "metadata": {},
   "source": [
    "В лотерее 100 билетов. Из них 2 выигрышных. \n",
    "Какова вероятность того, что 2 приобретенных билета окажутся выигрышными?\n"
   ]
  },
  {
   "cell_type": "markdown",
   "id": "160d123b",
   "metadata": {},
   "source": [
    "Число вариантов вытащить парные выигрышные билеты:"
   ]
  },
  {
   "cell_type": "code",
   "execution_count": 11,
   "id": "1d8988db",
   "metadata": {},
   "outputs": [
    {
     "data": {
      "text/plain": [
       "4950"
      ]
     },
     "execution_count": 11,
     "metadata": {},
     "output_type": "execute_result"
    }
   ],
   "source": [
    "nn = combns(100,2)\n",
    "nn"
   ]
  },
  {
   "cell_type": "markdown",
   "id": "aeb49939",
   "metadata": {},
   "source": [
    "Так как выигрышный случай только один, то вероятность этого в %:"
   ]
  },
  {
   "cell_type": "code",
   "execution_count": 12,
   "id": "9f426587",
   "metadata": {},
   "outputs": [
    {
     "data": {
      "text/plain": [
       "0.0202020202020202"
      ]
     },
     "execution_count": 12,
     "metadata": {},
     "output_type": "execute_result"
    }
   ],
   "source": [
    "V = 1 / nn * 100\n",
    "V"
   ]
  }
 ],
 "metadata": {
  "kernelspec": {
   "display_name": "Python 3 (ipykernel)",
   "language": "python",
   "name": "python3"
  },
  "language_info": {
   "codemirror_mode": {
    "name": "ipython",
    "version": 3
   },
   "file_extension": ".py",
   "mimetype": "text/x-python",
   "name": "python",
   "nbconvert_exporter": "python",
   "pygments_lexer": "ipython3",
   "version": "3.9.13"
  }
 },
 "nbformat": 4,
 "nbformat_minor": 5
}
